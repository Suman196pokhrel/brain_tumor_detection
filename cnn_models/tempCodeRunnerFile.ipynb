tf.keras.utils.plot_model(
    model,
    to_file='cnn_model.png',
    show_shapes=True,
    expand_nested=True
)