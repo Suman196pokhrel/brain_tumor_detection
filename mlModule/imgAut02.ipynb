{
 "cells": [
  {
   "cell_type": "markdown",
   "id": "7fc97899",
   "metadata": {},
   "source": [
    "## Data Aug Using Keras"
   ]
  },
  {
   "cell_type": "code",
   "execution_count": 2,
   "id": "7ae82184",
   "metadata": {},
   "outputs": [],
   "source": [
    "from keras.preprocessing.image import ImageDataGenerator,array_to_img,img_to_array, load_img"
   ]
  },
  {
   "cell_type": "code",
   "execution_count": 3,
   "id": "d7be28cd",
   "metadata": {},
   "outputs": [],
   "source": [
    "datagen = ImageDataGenerator(\n",
    "    rotation_range=40,\n",
    "    width_shift_range =0.2,\n",
    "    height_shift_range=0.2,\n",
    "    shear_range=0.2,\n",
    "    zoom_range=0.2,\n",
    "    horizontal_flip=True,\n",
    "    fill_mode='nearest' )\n",
    "\n",
    "img_path = r\"C:\\Users\\Suman pokhrel\\OneDrive\\Desktop\\Final_Year_Project\\btdCode\\mlModule\\testData\\test1.jpeg\"\n",
    "img = load_img(img_path)"
   ]
  },
  {
   "cell_type": "code",
   "execution_count": 4,
   "id": "1d1b5547",
   "metadata": {},
   "outputs": [],
   "source": [
    "x = img_to_array(img)\n",
    "x = x.reshape((1,) + x.shape)"
   ]
  },
  {
   "cell_type": "code",
   "execution_count": 5,
   "id": "2bc41a1f",
   "metadata": {},
   "outputs": [],
   "source": [
    "i =0\n",
    "for batch in datagen.flow(x, batch_size=1,save_to_dir=\"augumentedImages\", save_prefix=\"fiveNote\",save_format=\"jpg\"):\n",
    "    i +=1\n",
    "    if i > 5:\n",
    "        break"
   ]
  }
 ],
 "metadata": {
  "interpreter": {
   "hash": "1baa965d5efe3ac65b79dfc60c0d706280b1da80fedb7760faf2759126c4f253"
  },
  "kernelspec": {
   "display_name": "Python 3.8.10 64-bit",
   "name": "python3"
  },
  "language_info": {
   "codemirror_mode": {
    "name": "ipython",
    "version": 3
   },
   "file_extension": ".py",
   "mimetype": "text/x-python",
   "name": "python",
   "nbconvert_exporter": "python",
   "pygments_lexer": "ipython3",
   "version": "3.8.10"
  }
 },
 "nbformat": 4,
 "nbformat_minor": 5
}
